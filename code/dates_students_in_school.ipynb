{
 "cells": [
  {
   "cell_type": "code",
   "execution_count": 783,
   "id": "3c15ec9f",
   "metadata": {},
   "outputs": [],
   "source": [
    "import pandas as pd\n",
    "import numpy as np"
   ]
  },
  {
   "cell_type": "code",
   "execution_count": 784,
   "id": "6dc84c03",
   "metadata": {},
   "outputs": [],
   "source": [
    "# DOE's list of days school was in session (includes remote school)\n",
    "\n",
    "in_session_hs = pd.read_excel(r'/Users/ravram/Downloads/calendar.days.2015-2022.d110822.high.school.xlsx')\n",
    "in_session_el = pd.read_excel(r'/Users/ravram/Downloads/calendar.days.2015-2022.d110822.elementary.school.xlsx')"
   ]
  },
  {
   "cell_type": "code",
   "execution_count": 785,
   "id": "df84beff",
   "metadata": {},
   "outputs": [],
   "source": [
    "# cleaning up the dataframes\n",
    "\n",
    "in_session_hs = in_session_hs.rename(columns={in_session_hs.columns[0]: 'date'})\n",
    "in_session_hs.drop(in_session_hs.tail(1).index, inplace=True)\n",
    "\n",
    "in_session_el = in_session_el.rename(columns={in_session_el.columns[0]: 'date'})\n",
    "in_session_el.drop(in_session_el.tail(1).index, inplace=True)\n",
    "\n",
    "new_row = pd.DataFrame({'date':'2015-09-09'}, index =[0])\n",
    "in_session_hs = pd.concat([new_row, in_session_hs]).reset_index(drop = True)\n",
    "in_session_el = pd.concat([new_row, in_session_el]).reset_index(drop = True)\n",
    "\n",
    "# converting all entries to datetime\n",
    "\n",
    "in_session_hs['date'] = pd.to_datetime(in_session_hs['date'])\n",
    "in_session_el['date'] = pd.to_datetime(in_session_el['date'])"
   ]
  },
  {
   "cell_type": "code",
   "execution_count": 786,
   "id": "fdd7d451",
   "metadata": {},
   "outputs": [],
   "source": [
    "# days of school for high school but not elementary school\n",
    "\n",
    "hs_only = []\n",
    "\n",
    "for day in in_session_hs['date'].to_list():\n",
    "    if day not in in_session_el['date'].to_list():\n",
    "        hs_only.append(pd.to_datetime(day))"
   ]
  },
  {
   "cell_type": "code",
   "execution_count": 787,
   "id": "6e3d6372",
   "metadata": {},
   "outputs": [],
   "source": [
    "# days of school for elementary school but not high school\n",
    "\n",
    "elem_only = []\n",
    "\n",
    "for day in in_session_el['date'].to_list():\n",
    "    if day not in in_session_hs['date'].to_list():\n",
    "        elem_only.append(pd.to_datetime(day))"
   ]
  },
  {
   "cell_type": "code",
   "execution_count": 788,
   "id": "f7857b10",
   "metadata": {},
   "outputs": [],
   "source": [
    "# creating df of all days schools were in session across Elem and HS (starting in 2017-2018 SY)\n",
    "\n",
    "in_session_total = pd.concat([in_session_hs, pd.DataFrame({'date': elem_only})], ignore_index=True)\n",
    "in_session_total = in_session_total.sort_values(by = 'date')\n",
    "in_session_total = in_session_total[in_session_total['date'] >= pd.to_datetime('2017-09-07')]"
   ]
  },
  {
   "cell_type": "code",
   "execution_count": 789,
   "id": "2238d31c",
   "metadata": {},
   "outputs": [
    {
     "name": "stderr",
     "output_type": "stream",
     "text": [
      "/var/folders/0x/wbh6lcrn3t7046vw2zxtbrhxrc0v0g/T/ipykernel_6389/1468934571.py:11: SettingWithCopyWarning: \n",
      "A value is trying to be set on a copy of a slice from a DataFrame\n",
      "\n",
      "See the caveats in the documentation: https://pandas.pydata.org/pandas-docs/stable/user_guide/indexing.html#returning-a-view-versus-a-copy\n",
      "  in_session_total['school type'][ind] = 'HS/Elem'\n",
      "/var/folders/0x/wbh6lcrn3t7046vw2zxtbrhxrc0v0g/T/ipykernel_6389/1468934571.py:9: SettingWithCopyWarning: \n",
      "A value is trying to be set on a copy of a slice from a DataFrame\n",
      "\n",
      "See the caveats in the documentation: https://pandas.pydata.org/pandas-docs/stable/user_guide/indexing.html#returning-a-view-versus-a-copy\n",
      "  in_session_total['school type'][ind] = 'Elem Only'\n",
      "/var/folders/0x/wbh6lcrn3t7046vw2zxtbrhxrc0v0g/T/ipykernel_6389/1468934571.py:7: SettingWithCopyWarning: \n",
      "A value is trying to be set on a copy of a slice from a DataFrame\n",
      "\n",
      "See the caveats in the documentation: https://pandas.pydata.org/pandas-docs/stable/user_guide/indexing.html#returning-a-view-versus-a-copy\n",
      "  in_session_total['school type'][ind] = 'HS Only'\n"
     ]
    }
   ],
   "source": [
    "# adding a column indicating which schools were in session on a given date\n",
    "\n",
    "in_session_total['school type'] = ''\n",
    "\n",
    "for ind in in_session_total.index:\n",
    "    if in_session_total['date'][ind] in hs_only:\n",
    "        in_session_total['school type'][ind] = 'HS Only'\n",
    "    elif in_session_total['date'][ind] in elem_only:\n",
    "        in_session_total['school type'][ind] = 'Elem Only'\n",
    "    else:\n",
    "        in_session_total['school type'][ind] = 'HS/Elem'"
   ]
  },
  {
   "cell_type": "code",
   "execution_count": 790,
   "id": "138848eb",
   "metadata": {},
   "outputs": [],
   "source": [
    "# creating df that contains only days both HS and elementary school students were physically in school, according to DOE\n",
    "\n",
    "students_in_school = in_session_total[in_session_total['school type'] == 'HS/Elem']\n",
    "students_in_school = students_in_school.drop(columns = ['school type'])\n",
    "\n",
    "# removing days students were remote due to COVID\n",
    "\n",
    "students_in_school = students_in_school[(students_in_school['date'] < pd.to_datetime('3/16/2020')) | (students_in_school['date'] > pd.to_datetime('9/13/2021'))]"
   ]
  },
  {
   "cell_type": "code",
   "execution_count": 791,
   "id": "3e9e005e",
   "metadata": {},
   "outputs": [],
   "source": [
    "students_in_school.to_csv('DOE School Bus Delay Dates.csv', index = False)"
   ]
  }
 ],
 "metadata": {
  "kernelspec": {
   "display_name": "Python 3 (ipykernel)",
   "language": "python",
   "name": "python3"
  },
  "language_info": {
   "codemirror_mode": {
    "name": "ipython",
    "version": 3
   },
   "file_extension": ".py",
   "mimetype": "text/x-python",
   "name": "python",
   "nbconvert_exporter": "python",
   "pygments_lexer": "ipython3",
   "version": "3.9.13"
  }
 },
 "nbformat": 4,
 "nbformat_minor": 5
}
