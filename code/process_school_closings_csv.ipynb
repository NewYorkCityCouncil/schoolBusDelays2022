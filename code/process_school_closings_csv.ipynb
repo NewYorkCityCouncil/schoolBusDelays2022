{
 "cells": [
  {
   "cell_type": "code",
   "execution_count": 1,
   "metadata": {
    "ExecuteTime": {
     "end_time": "2022-11-11T02:18:21.685478Z",
     "start_time": "2022-11-11T02:18:21.296295Z"
    }
   },
   "outputs": [],
   "source": [
    "import pandas as pd\n",
    "import numpy as np"
   ]
  },
  {
   "cell_type": "code",
   "execution_count": 2,
   "metadata": {
    "ExecuteTime": {
     "end_time": "2022-11-11T02:18:21.696303Z",
     "start_time": "2022-11-11T02:18:21.688487Z"
    }
   },
   "outputs": [],
   "source": [
    "data = pd.read_csv('../data/input/modified/DOE School Calendar Dates_edited.csv').drop(columns = ['Unnamed: 3'])\n",
    "data = data.replace('–', '-')"
   ]
  },
  {
   "cell_type": "code",
   "execution_count": 3,
   "metadata": {
    "ExecuteTime": {
     "end_time": "2022-11-11T02:18:21.768244Z",
     "start_time": "2022-11-11T02:18:21.698459Z"
    }
   },
   "outputs": [],
   "source": [
    "# Data start date should be Sept. 7, 2017\n",
    "\n",
    "# Have to preprocess date ranges\n",
    "# Split into start and end dates. If there is a hyphen, \n",
    "# take the two numbers on either side of it and use one as start date and one as an end date\n",
    "\n",
    "# 27-30 Dec 2022\n",
    "\n",
    "# For this to work, replace all '‚Äì' (big hyphen code) in csv with hyphens '-' \n",
    "\n",
    "start_dates, end_dates = [], []\n",
    "for i in data['Dates']:\n",
    "    if ('-' not in i):\n",
    "        start_dates.append(pd.to_datetime(i))\n",
    "        end_dates.append(pd.to_datetime(i))\n",
    "    else:\n",
    "        x = i.split(' ')\n",
    "        start_dates.append(pd.to_datetime(' '.join([k.split('-')[0] if ('-' in k) else k for k in x])))\n",
    "        end_dates.append(pd.to_datetime(' '.join([k.split('-')[1] if ('-' in k) else k for k in x])))\n",
    "        \n",
    "data['Start Date'] = start_dates\n",
    "data['End Date'] = end_dates"
   ]
  },
  {
   "cell_type": "code",
   "execution_count": 4,
   "metadata": {
    "ExecuteTime": {
     "end_time": "2022-11-11T02:18:21.773080Z",
     "start_time": "2022-11-11T02:18:21.769972Z"
    }
   },
   "outputs": [],
   "source": [
    "def get_year(school_year, month):\n",
    "    if int(month) < 9:\n",
    "        return int(school_year[:4]) + 1\n",
    "    else:\n",
    "        return int(school_year[:4])"
   ]
  },
  {
   "cell_type": "code",
   "execution_count": 5,
   "metadata": {
    "ExecuteTime": {
     "end_time": "2022-11-11T02:18:21.812751Z",
     "start_time": "2022-11-11T02:18:21.776205Z"
    }
   },
   "outputs": [],
   "source": [
    "data['End Date'] = pd.to_datetime(data['End Date'].dt.month.astype(str) + \"/\" + data['End Date'].dt.day.astype(str) + \"/\" + data.apply( (lambda x: get_year(x['School Year'], x['End Date'].month)), axis = 1).astype(str))\n",
    "data['Start Date'] = pd.to_datetime(data['Start Date'].dt.month.astype(str) + \"/\" + data['Start Date'].dt.day.astype(str) + \"/\" + data.apply( (lambda x: get_year(x['School Year'], x['Start Date'].month)), axis = 1).astype(str))"
   ]
  },
  {
   "cell_type": "code",
   "execution_count": 6,
   "metadata": {
    "ExecuteTime": {
     "end_time": "2022-11-11T02:18:22.050576Z",
     "start_time": "2022-11-11T02:18:21.815398Z"
    }
   },
   "outputs": [
    {
     "name": "stderr",
     "output_type": "stream",
     "text": [
      "/var/folders/jt/mzncz72n2l53hxv8vgtmr8xw0000gn/T/ipykernel_88431/3668757566.py:9: FutureWarning: The frame.append method is deprecated and will be removed from pandas in a future version. Use pandas.concat instead.\n",
      "  data = data.append(covid, ignore_index=True)\n"
     ]
    }
   ],
   "source": [
    "# Adding covid shutdown 3/16/2020 - 9/13/2021\n",
    "\n",
    "covid = {'School Year': '2021-2022', \n",
    "         'Dates': '3/16/2020 - 9/13/2021', \n",
    "         'Reason': 'COVID', \n",
    "         'Start Date': pd.to_datetime('3/16/2020'), \n",
    "         'End Date': pd.to_datetime('9/13/2021')\n",
    "        }\n",
    "data = data.append(covid, ignore_index=True)"
   ]
  },
  {
   "cell_type": "code",
   "execution_count": 7,
   "metadata": {
    "ExecuteTime": {
     "end_time": "2022-11-11T02:18:22.060114Z",
     "start_time": "2022-11-11T02:18:22.053227Z"
    }
   },
   "outputs": [],
   "source": [
    "# Sort reasons\n",
    "data['Closure'] = data['Reason'].apply( lambda x: 1 if  ( (\"closed\" in x) | \n",
    "                                       (\"no students\" in x) | \n",
    "                                       (\"9-12 schools only\" in x) | \n",
    "                                       (\"remote\" in x) | \n",
    "                                       (\"hours early\" in x) | \n",
    "                                       (\"do not attend\" in x) | \n",
    "                                       (\"CLOSED\" in x) | \n",
    "                                       (\"Clerical Day\" in x) | \n",
    "                                       (\"staff development\" in x) | \n",
    "                                       (\"Students not in attendance\" in x) | \n",
    "                                       (\"Students will not\" in x) | \n",
    "                                       (\"will not be in attendance\" in x) | \n",
    "                                       (\"COVID\" in x) | \n",
    "                                       (\"Summer Recess\" in x) ) else 0 )"
   ]
  },
  {
   "cell_type": "code",
   "execution_count": 8,
   "metadata": {
    "ExecuteTime": {
     "end_time": "2022-11-11T02:18:22.076993Z",
     "start_time": "2022-11-11T02:18:22.062287Z"
    }
   },
   "outputs": [
    {
     "data": {
      "text/plain": [
       "array(['First day of school', 'Rosh Hashanah, schools closed',\n",
       "       'Yom Kippur, schools closed',\n",
       "       \"Italian Heritage / Indigenous Peoples' Day, schools closed\",\n",
       "       \"Election Day / Chancellor's Conference Day, no students report\",\n",
       "       'Veterans Day, schools closed', 'Thanksgiving, schools closed',\n",
       "       'Thanksgiving Recess, schools closed',\n",
       "       'Christmas Day (observed), schools closed',\n",
       "       'Winter Recess, schools closed',\n",
       "       'New Year’s Day (observed), schools closed',\n",
       "       'Rev. Dr. Martin Luther King Jr. Day, schools closed',\n",
       "       'Regents Administration (Exact Dates TBD)',\n",
       "       'Professional Development Day (6-12 and 9-12 schools only)',\n",
       "       'Spring Semester begins',\n",
       "       \"Washington's Birthday / Presidents Day, schools closed\",\n",
       "       \"Lincoln's Birthday (Observed), schools closed\",\n",
       "       'Midwinter Recess, schools closed',\n",
       "       'First Day of Passover, schools closed',\n",
       "       'Second Day of Passover / Good Friday, schools closed',\n",
       "       'Spring Recess, schools closed', 'Eid al-Fitr, schools closed',\n",
       "       'Memorial Day, schools closed',\n",
       "       \"Anniversary Day (Chancellor's Conference Day), no students in attendance\",\n",
       "       'Clerical Day (Pre-K Centers, 3K-5, 3K-8, 6-8, K-12 schools and standalone D75 programs)',\n",
       "       'Juneteenth, schools closed', 'Regents Rating (Exact Dates TBD)',\n",
       "       'Summer Recess', 'Indigenous Peoples’ Day, schools closed',\n",
       "       'Election Day, remote asynchronous instructional for students, professional development for teachers',\n",
       "       'Evening parent-teacher conferences for elementary schools and K-8 schools.',\n",
       "       'Afternoon parent-teacher conferences for elementary schools and K-8 schools; students in these schools dismissed three hours early.',\n",
       "       'Evening parent-teacher conferences for high schools, K-12, and 6-12 schools.',\n",
       "       'Afternoon parent-teacher conferences for high schools, K-12, and 6-12 schools; students in these schools dismissed three hours early.',\n",
       "       'Evening parent-teacher conferences for middle schools and District 75 school programs.',\n",
       "       'Afternoon Conferences for middle schools and District 75 school programs; students in these schools dismissed three hours early.',\n",
       "       'Regents Administration',\n",
       "       'PD day for 9-12 and 6-12 schools, students in these schools do not attend',\n",
       "       'Lunar New Year, schools closed',\n",
       "       'Spring Term begins for semester-based schools',\n",
       "       'Evening parent-teacher conferences for middle schools and district 75 schools and programs.',\n",
       "       'Afternoon parent-teacher conferences for middle schools and district 75 schools and programs; students in these schools dismissed three hours early.',\n",
       "       '3-8 ELA Assessment administration',\n",
       "       'Spring Recess (includes Good Friday and Passover), schools closed',\n",
       "       '3-8 Math Assessment administration',\n",
       "       'Clerical Day, K-5, K-6, 6-8, and K-12 schools and D75 programs, students in these schools do not attend',\n",
       "       'Anniversary Day, Chancellor’s Conference Day for staff development, students do not attend',\n",
       "       'Chancellor’s Conference Day for staff development',\n",
       "       'Fully remote partial school days for students.',\n",
       "       'First full day of school; blended learning commences.',\n",
       "       'Columbus Day, schools closed',\n",
       "       'Election Day, fully remote instructional day for all students',\n",
       "       'Evening parent teacher conferences for elementary schools and K-8 schools.',\n",
       "       'Afternoon parent teacher conferences for elementary schools and K-8 schools; students in these schools dismissed three hours early.',\n",
       "       'Evening parent teacher conferences for high schools, K-12, and 6-12 schools.',\n",
       "       'Afternoon parent teacher conferences for high schools, K-12, and 6-12 schools; students in these schools dismissed three hours early.',\n",
       "       'Evening parent teacher conferences for middle schools and District 75 school programs.',\n",
       "       'Professional Development Day for 9-12 and 6-12 schools in Districts 1- 32 only; students in these schools do not attend. \\nStudents in K-5, K-6, 6-8, and K-12 and D75 schools and programs are in attendance.',\n",
       "       'Midwinter Recess (includes Presidents’ Day and Lincoln’s Birthday),  schools closed',\n",
       "       'Evening parent teacher conferences for elementary schools and K-8 Schools.',\n",
       "       'Evening parent teacher conferences for middle schools and district 75 schools and programs.',\n",
       "       'Afternoon parent teacher conferences for middle schools and district 75 schools and programs; students in these schools dismissed three hours early.',\n",
       "       'Eid Al-Fitr, schools closed',\n",
       "       'Anniversary Day. Chancellor’s Conference Day for staff development.  Students not in attendance.',\n",
       "       'Clerical Day for K-5, K-6, 6-8, and K-12 and D75 schools and programs only; students in these schools do not attend. \\nStudents in 9-12 and 6-12 schools in Districts 1-32 are in attendance.',\n",
       "       'Last day of school for all students.',\n",
       "       'First Day of School (partial school day for pre-k public school students)',\n",
       "       'Parent Teacher Conferences (elementary schools and k-8 schools)',\n",
       "       'Parent Teacher Conferences (middle schools)',\n",
       "       'Parent Teacher Conferences (high schools, k-12 and 6-12 schools)',\n",
       "       'Rosh Hashanah SCHOOLS ARE CLOSED',\n",
       "       'Yom Kippur SCHOOLS ARE CLOSED', 'Columbus Day SCHOOLS ARE CLOSED',\n",
       "       'Election Day, students do not attend school',\n",
       "       'Parent Teacher Conferences (middle schools, District 75 programs)',\n",
       "       'Veterans Day SCHOOLS ARE CLOSED',\n",
       "       'Thanksgiving Recess SCHOOLS ARE CLOSED',\n",
       "       'Winter Recess SCHOOLS ARE CLOSED',\n",
       "       'Dr. Martin Luther King Jr. Day SCHOOLS ARE CLOSED',\n",
       "       'January Clerical Day (high school and 6-12 school students do not attend, unless enrolled in a District 75 program)',\n",
       "       'Midwinter Recess SCHOOLS ARE CLOSED',\n",
       "       'Parent Teacher Conferences (middle schools and District 75 programs)',\n",
       "       'Cancelled', 'Memorial Day SCHOOLS ARE CLOSED',\n",
       "       'CANCELLED Anniversary Day/Chancellor’s Conference Day for Staff Development, students do not attend school',\n",
       "       'CANCELLED June Clerical Day for Lower Grades, elementary school, middle school and District 75 students do not attend',\n",
       "       'Last Day of School', 'Rosh Hashanah (schools closed)',\n",
       "       'Yom Kippur (schools closed)',\n",
       "       'Columbus Day Observed (schools closed)',\n",
       "       'Election Day (students do not attend school)',\n",
       "       'Veterans Day Observed (schools closed)',\n",
       "       'Thanksgiving Recess (schools closed)',\n",
       "       'Winter Recess (schools closed)',\n",
       "       'Dr. Martin Luther King Jr. Day (schools closed)',\n",
       "       \"Chancellor's Conference Day for High Schools. High school students do not attend school, except those enrolled at D75 school programs.\",\n",
       "       'Lunar New Year (schools closed)',\n",
       "       'Midwinter Recess (schools closed)',\n",
       "       'Spring Recess (schools closed)', 'Memorial Day (schools closed)',\n",
       "       'Eid al-Fitr (schools closed)',\n",
       "       'Anniversary Day (students do not attend school)',\n",
       "       'June Clerical Day. Elementary school, middle school, and D75 students do not attend school.',\n",
       "       'Teachers report to school. Students will not be in attendance.',\n",
       "       \"Chancellor's Conference Day for staff development. Students will not be in attendance.\",\n",
       "       'Columbus Day observed (schools closed)',\n",
       "       \"Election Day. Chancellor's Conference Day for staff development. Students will not be in attendance.\",\n",
       "       'Winter recess (schools closed)',\n",
       "       \"High school Chancellor's Conference Day for staff development. (District 75 high school students will still have classes.)*\",\n",
       "       'Midwinter recess (schools closed)',\n",
       "       'Spring recess (schools closed)',\n",
       "       \"Anniversary Day. Chancellor's Conference Day for staff development. Students will not be in attendance.\",\n",
       "       'June Clerical Day for students in elementary school, middle school and District 75 school programs.*',\n",
       "       'Regents Rating Day. In non-District 75 high schools, students  will not be in attendance. All other students will be in  attendance.',\n",
       "       'Last Day For All Students.', 'COVID'], dtype=object)"
      ]
     },
     "execution_count": 8,
     "metadata": {},
     "output_type": "execute_result"
    }
   ],
   "source": [
    "data['Reason'].unique()"
   ]
  },
  {
   "cell_type": "code",
   "execution_count": 9,
   "metadata": {
    "ExecuteTime": {
     "end_time": "2022-11-11T02:18:22.091846Z",
     "start_time": "2022-11-11T02:18:22.080570Z"
    }
   },
   "outputs": [],
   "source": [
    "data.to_csv('../data/output/school_calendar_dates.csv')"
   ]
  },
  {
   "cell_type": "code",
   "execution_count": 10,
   "metadata": {
    "ExecuteTime": {
     "end_time": "2022-11-11T02:18:22.099322Z",
     "start_time": "2022-11-11T02:18:22.093516Z"
    }
   },
   "outputs": [
    {
     "data": {
      "text/plain": [
       "Timestamp('2022-09-08 00:00:00')"
      ]
     },
     "execution_count": 10,
     "metadata": {},
     "output_type": "execute_result"
    }
   ],
   "source": [
    "data['End Date'][0]"
   ]
  },
  {
   "cell_type": "code",
   "execution_count": null,
   "metadata": {},
   "outputs": [],
   "source": []
  }
 ],
 "metadata": {
  "hide_input": false,
  "kernelspec": {
   "display_name": "general_venv",
   "language": "python",
   "name": "general_venv"
  },
  "language_info": {
   "codemirror_mode": {
    "name": "ipython",
    "version": 3
   },
   "file_extension": ".py",
   "mimetype": "text/x-python",
   "name": "python",
   "nbconvert_exporter": "python",
   "pygments_lexer": "ipython3",
   "version": "3.9.13"
  },
  "toc": {
   "base_numbering": 1,
   "nav_menu": {},
   "number_sections": false,
   "sideBar": true,
   "skip_h1_title": false,
   "title_cell": "Table of Contents",
   "title_sidebar": "Contents",
   "toc_cell": false,
   "toc_position": {},
   "toc_section_display": true,
   "toc_window_display": false
  }
 },
 "nbformat": 4,
 "nbformat_minor": 4
}
