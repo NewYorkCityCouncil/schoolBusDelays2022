{
 "cells": [
  {
   "cell_type": "code",
   "execution_count": 1,
   "metadata": {
    "ExecuteTime": {
     "end_time": "2022-11-09T23:44:04.239591Z",
     "start_time": "2022-11-09T23:44:03.817340Z"
    }
   },
   "outputs": [],
   "source": [
    "import pandas as pd\n",
    "import numpy as np"
   ]
  },
  {
   "cell_type": "code",
   "execution_count": 2,
   "metadata": {
    "ExecuteTime": {
     "end_time": "2022-11-09T23:44:04.251271Z",
     "start_time": "2022-11-09T23:44:04.242499Z"
    }
   },
   "outputs": [],
   "source": [
    "data = pd.read_csv('../data/input/modified/DOE School Calendar Dates_edited.csv').drop(columns = ['Unnamed: 3'])\n",
    "data = data.replace('–', '-')"
   ]
  },
  {
   "cell_type": "code",
   "execution_count": 3,
   "metadata": {
    "ExecuteTime": {
     "end_time": "2022-11-09T23:44:04.326948Z",
     "start_time": "2022-11-09T23:44:04.252984Z"
    }
   },
   "outputs": [],
   "source": [
    "# Data start date should be Sept. 7, 2017\n",
    "\n",
    "# Have to preprocess date ranges\n",
    "# Split into start and end dates. If there is a hyphen, \n",
    "# take the two numbers on either side of it and use one as start date and one as an end date\n",
    "\n",
    "# 27-30 Dec 2022\n",
    "\n",
    "# For this to work, replace all '‚Äì' (big hyphen code) in csv with hyphens '-' \n",
    "\n",
    "start_dates, end_dates = [], []\n",
    "for i in data['Dates']:\n",
    "    if ('-' not in i):\n",
    "        start_dates.append(pd.to_datetime(i))\n",
    "        end_dates.append(pd.to_datetime(i))\n",
    "    else:\n",
    "        x = i.split(' ')\n",
    "        start_dates.append(pd.to_datetime(' '.join([k.split('-')[0] if ('-' in k) else k for k in x])))\n",
    "        end_dates.append(pd.to_datetime(' '.join([k.split('-')[1] if ('-' in k) else k for k in x])))\n",
    "        \n",
    "data['Start Date'] = start_dates\n",
    "data['End Date'] = end_dates"
   ]
  },
  {
   "cell_type": "code",
   "execution_count": 4,
   "metadata": {
    "ExecuteTime": {
     "end_time": "2022-11-09T23:44:04.332327Z",
     "start_time": "2022-11-09T23:44:04.329023Z"
    }
   },
   "outputs": [],
   "source": [
    "def get_year(school_year, month):\n",
    "    if int(month) < 9:\n",
    "        return int(school_year[:4]) + 1\n",
    "    else:\n",
    "        return int(school_year[:4])"
   ]
  },
  {
   "cell_type": "code",
   "execution_count": 5,
   "metadata": {
    "ExecuteTime": {
     "end_time": "2022-11-09T23:44:04.371602Z",
     "start_time": "2022-11-09T23:44:04.335737Z"
    }
   },
   "outputs": [],
   "source": [
    "data['End Date'] = pd.to_datetime(data['End Date'].dt.month.astype(str) + \"/\" + data['End Date'].dt.day.astype(str) + \"/\" + data.apply( (lambda x: get_year(x['School Year'], x['End Date'].month)), axis = 1).astype(str))\n",
    "data['Start Date'] = pd.to_datetime(data['Start Date'].dt.month.astype(str) + \"/\" + data['Start Date'].dt.day.astype(str) + \"/\" + data.apply( (lambda x: get_year(x['School Year'], x['Start Date'].month)), axis = 1).astype(str))"
   ]
  },
  {
   "cell_type": "code",
   "execution_count": 6,
   "metadata": {
    "ExecuteTime": {
     "end_time": "2022-11-09T23:44:04.600937Z",
     "start_time": "2022-11-09T23:44:04.373639Z"
    }
   },
   "outputs": [
    {
     "name": "stderr",
     "output_type": "stream",
     "text": [
      "/var/folders/jt/mzncz72n2l53hxv8vgtmr8xw0000gn/T/ipykernel_83315/3668757566.py:9: FutureWarning: The frame.append method is deprecated and will be removed from pandas in a future version. Use pandas.concat instead.\n",
      "  data = data.append(covid, ignore_index=True)\n"
     ]
    }
   ],
   "source": [
    "# Adding covid shutdown 3/16/2020 - 9/13/2021\n",
    "\n",
    "covid = {'School Year': '2021-2022', \n",
    "         'Dates': '3/16/2020 - 9/13/2021', \n",
    "         'Reason': 'COVID', \n",
    "         'Start Date': pd.to_datetime('3/16/2020'), \n",
    "         'End Date': pd.to_datetime('9/13/2021')\n",
    "        }\n",
    "data = data.append(covid, ignore_index=True)"
   ]
  },
  {
   "cell_type": "code",
   "execution_count": 7,
   "metadata": {
    "ExecuteTime": {
     "end_time": "2022-11-09T23:44:04.609192Z",
     "start_time": "2022-11-09T23:44:04.603448Z"
    }
   },
   "outputs": [],
   "source": [
    "# Sort reasons\n",
    "data['Closure'] = data['Reason'].apply( lambda x: 1 if  ( (\"closed\" in x) | \n",
    "                                       (\"no students\" in x) | \n",
    "                                       (\"9-12 schools only\" in x) | \n",
    "                                       (\"remote\" in x) | \n",
    "                                       (\"hours early\" in x) | \n",
    "                                       (\"do not attend\" in x) | \n",
    "                                       (\"CLOSED\" in x) | \n",
    "                                       (\"Clerical Day\" in x) | \n",
    "                                       (\"staff development\" in x) | \n",
    "                                       (\"Students not in attendance\" in x) | \n",
    "                                       (\"Students will not\" in x) | \n",
    "                                       (\"will not be in attendance\" in x) | \n",
    "                                       (\"COVID\" in x) | \n",
    "                                       (\"Summer Recess\" in x) ) else 0 )"
   ]
  },
  {
   "cell_type": "code",
   "execution_count": 8,
   "metadata": {
    "ExecuteTime": {
     "end_time": "2022-11-09T23:44:04.623655Z",
     "start_time": "2022-11-09T23:44:04.611373Z"
    }
   },
   "outputs": [],
   "source": [
    "data.to_csv('../data/output/school_calendar_dates.csv')"
   ]
  }
 ],
 "metadata": {
  "hide_input": false,
  "kernelspec": {
   "display_name": "general_venv",
   "language": "python",
   "name": "general_venv"
  },
  "language_info": {
   "codemirror_mode": {
    "name": "ipython",
    "version": 3
   },
   "file_extension": ".py",
   "mimetype": "text/x-python",
   "name": "python",
   "nbconvert_exporter": "python",
   "pygments_lexer": "ipython3",
   "version": "3.9.13"
  },
  "toc": {
   "base_numbering": 1,
   "nav_menu": {},
   "number_sections": false,
   "sideBar": true,
   "skip_h1_title": false,
   "title_cell": "Table of Contents",
   "title_sidebar": "Contents",
   "toc_cell": false,
   "toc_position": {},
   "toc_section_display": true,
   "toc_window_display": false
  }
 },
 "nbformat": 4,
 "nbformat_minor": 4
}
